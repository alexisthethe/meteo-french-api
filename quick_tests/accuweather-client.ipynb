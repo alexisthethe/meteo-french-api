{
 "cells": [
  {
   "cell_type": "markdown",
   "id": "e1e068f7",
   "metadata": {},
   "source": [
    "# AccuWeather Client\n",
    "\n",
    "## Introduction\n",
    "\n",
    "This notebook objective is to incrementely and interactively test and develop accuweather API in order to build the core logics of the _Meteo French API_"
   ]
  },
  {
   "cell_type": "markdown",
   "id": "d7748a14",
   "metadata": {},
   "source": [
    "## Code"
   ]
  },
  {
   "cell_type": "markdown",
   "id": "7e40b867",
   "metadata": {},
   "source": [
    "### Setup"
   ]
  },
  {
   "cell_type": "code",
   "execution_count": 24,
   "id": "7d82a3da",
   "metadata": {},
   "outputs": [],
   "source": [
    "# Imports\n",
    "import os\n",
    "import requests\n",
    "from dotenv import dotenv_values\n",
    "\n",
    "\n",
    "SCRIPT_DIR = os.path.abspath('')\n",
    "\n",
    "# Constants\n",
    "AW_BASE_URL = \"http://dataservice.accuweather.com\"\n",
    "GEOPOSITION_URL = AW_BASE_URL + \"/locations/v1/cities/geoposition/search\"\n",
    "CONDITIONS_URL = AW_BASE_URL + \"/currentconditions/v1\"\n",
    "\n",
    "# Parameters\n",
    "ENV_FILE = os.path.join(SCRIPT_DIR, \"../.env.dev\")\n",
    "SECRET_FILE = os.path.join(SCRIPT_DIR, \"../.env.secret\")\n",
    "\n",
    "## For test\n",
    "TOKEN_TEST_URL = AW_BASE_URL + \"/locations/v1/regions\"\n",
    "LATLNG_PARIS = (48.870502, 2.304897)\n",
    "\n",
    "# Env variables\n",
    "config = {\n",
    "    **dotenv_values(ENV_FILE),  # load shared development variables\n",
    "    **dotenv_values(SECRET_FILE),  # load sensitive variables\n",
    "}\n",
    "ACCUWEATHER_TOKEN = config['ACCUWEATHER_TOKEN']\n"
   ]
  },
  {
   "cell_type": "markdown",
   "id": "70079f34",
   "metadata": {},
   "source": [
    "### Quick Tests"
   ]
  },
  {
   "cell_type": "code",
   "execution_count": 25,
   "id": "e3c3b5cf",
   "metadata": {},
   "outputs": [
    {
     "name": "stdout",
     "output_type": "stream",
     "text": [
      "<Response [200]>\n",
      "OK\n"
     ]
    }
   ],
   "source": [
    "# Test accuweather token\n",
    "params = {\"apikey\": ACCUWEATHER_TOKEN}\n",
    "url = TOKEN_TEST_URL\n",
    "res = requests.get(url, params=params)\n",
    "print(res)\n",
    "\n",
    "if not res.ok:\n",
    "    print(\"ERROR ({})\".format(res.status_code))\n",
    "else:\n",
    "    print(\"OK\")"
   ]
  },
  {
   "cell_type": "code",
   "execution_count": 26,
   "id": "0fedd57b",
   "metadata": {},
   "outputs": [
    {
     "name": "stdout",
     "output_type": "stream",
     "text": [
      "2608429\n"
     ]
    }
   ],
   "source": [
    "# Get locationKey\n",
    "url = GEOPOSITION_URL\n",
    "latlng = LATLNG_PARIS\n",
    "params = {\n",
    "    \"apikey\": ACCUWEATHER_TOKEN,\n",
    "    \"q\": \"{},{}\".format(*latlng),\n",
    "}\n",
    "\n",
    "res = requests.get(url, params=params)\n",
    "locationKey = None\n",
    "if res.ok:\n",
    "    locationKey = res.json().get('Key')\n",
    "else:\n",
    "    print(\"ERROR ({})\".format(res.status_code))\n",
    "print(locationKey)"
   ]
  },
  {
   "cell_type": "code",
   "execution_count": 53,
   "id": "9c29ef75",
   "metadata": {},
   "outputs": [
    {
     "name": "stdout",
     "output_type": "stream",
     "text": [
      "{'Metric': {'Value': 0.0, 'Unit': 'mm', 'UnitType': 3}, 'Imperial': {'Value': 0.0, 'Unit': 'in', 'UnitType': 1}}\n",
      "{'visibility': 9700.0, 'precipitation': 0.0}\n"
     ]
    }
   ],
   "source": [
    "# Utils functions\n",
    "def homogenize_unit(value_obj):\n",
    "    # we will homogeneize in m\n",
    "    value_obj_s = value_obj[\"Metric\"]\n",
    "    # mm\n",
    "    if value_obj_s[\"UnitType\"] == 3:\n",
    "        return value_obj_s[\"Value\"] * 0.001\n",
    "    # cm\n",
    "    if value_obj_s[\"UnitType\"] == 4:\n",
    "        return value_obj_s[\"Value\"] * 0.01\n",
    "    # m\n",
    "    if value_obj_s[\"UnitType\"] == 5:\n",
    "        return value_obj_s[\"Value\"]\n",
    "    # km\n",
    "    if value_obj_s[\"UnitType\"] == 6:\n",
    "        return value_obj_s[\"Value\"] * 1000\n",
    "\n",
    "\n",
    "# Get visibility\n",
    "url = CONDITIONS_URL + \"/{}\".format(locationKey)\n",
    "params = {\n",
    "    \"apikey\": ACCUWEATHER_TOKEN,\n",
    "    \"details\": True,\n",
    "}\n",
    "\n",
    "res = requests.get(url, params=params)\n",
    "visibility = None\n",
    "precipitation = None\n",
    "if res.ok:\n",
    "    data = res.json()\n",
    "    if len(data):\n",
    "        visibility_obj = data[0].get('Visibility')\n",
    "        precipitation_obj = data[0].get('Precip1hr')\n",
    "        print(precipitation_obj)\n",
    "        visibility = homogenize_unit(visibility_obj)\n",
    "        precipitation = homogenize_unit(precipitation_obj)\n",
    "else:\n",
    "    print(\"ERROR ({})\".format(res.status_code))\n",
    "return_data = {\n",
    "    \"visibility\": visibility,\n",
    "    \"precipitation\": precipitation\n",
    "}\n",
    "print(return_data)"
   ]
  },
  {
   "cell_type": "code",
   "execution_count": 56,
   "id": "bc471114",
   "metadata": {},
   "outputs": [
    {
     "name": "stdout",
     "output_type": "stream",
     "text": [
      "0\n"
     ]
    }
   ],
   "source": [
    "# Get uv index\n",
    "url = CONDITIONS_URL + \"/{}\".format(locationKey)\n",
    "params = {\n",
    "    \"apikey\": ACCUWEATHER_TOKEN,\n",
    "    \"details\": True,\n",
    "}\n",
    "\n",
    "res = requests.get(url, params=params)\n",
    "uv_index = None\n",
    "if res.ok:\n",
    "    data = res.json()\n",
    "    if len(data):\n",
    "        uv_index = data[0].get('UVIndex')\n",
    "else:\n",
    "    print(\"ERROR ({})\".format(res.status_code))\n",
    "\n",
    "print(uv_index)"
   ]
  }
 ],
 "metadata": {
  "kernelspec": {
   "display_name": "Python 3 (ipykernel)",
   "language": "python",
   "name": "python3"
  },
  "language_info": {
   "codemirror_mode": {
    "name": "ipython",
    "version": 3
   },
   "file_extension": ".py",
   "mimetype": "text/x-python",
   "name": "python",
   "nbconvert_exporter": "python",
   "pygments_lexer": "ipython3",
   "version": "3.8.9"
  }
 },
 "nbformat": 4,
 "nbformat_minor": 5
}

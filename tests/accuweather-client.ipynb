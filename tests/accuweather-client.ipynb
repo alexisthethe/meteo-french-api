{
 "cells": [
  {
   "cell_type": "markdown",
   "id": "e1e068f7",
   "metadata": {},
   "source": [
    "# AccuWeather Client\n",
    "\n",
    "## Introduction\n",
    "\n",
    "This notebook objective is to incrementely and interactively test and develop accuweather API in order to build the core logics of the _Meteo French API_"
   ]
  },
  {
   "cell_type": "markdown",
   "id": "d7748a14",
   "metadata": {},
   "source": [
    "## Code"
   ]
  },
  {
   "cell_type": "markdown",
   "id": "7e40b867",
   "metadata": {},
   "source": [
    "### Setup"
   ]
  },
  {
   "cell_type": "code",
   "execution_count": 20,
   "id": "7d82a3da",
   "metadata": {},
   "outputs": [],
   "source": [
    "# Imports\n",
    "import os\n",
    "import requests\n",
    "from dotenv import load_dotenv\n",
    "\n",
    "SCRIPT_DIR = os.path.abspath('')\n",
    "\n",
    "# Constants\n",
    "AW_BASE_URL = \"http://dataservice.accuweather.com\"\n",
    "\n",
    "# Parameters\n",
    "ENV_FILE = os.path.join(SCRIPT_DIR, \"../.env\")\n",
    "\n",
    "## For test\n",
    "TOKEN_TEST_URL = AW_BASE_URL + \"/locations/v1/regions\"\n",
    "LATLNG_PARIS = (48.870502, 2.304897)\n",
    "\n",
    "# Env variables\n",
    "load_dotenv(ENV_FILE)\n",
    "ACCUWEATHER_TOKEN = os.getenv(\"ACCUWEATHER_TOKEN\", \"token\")\n"
   ]
  },
  {
   "cell_type": "markdown",
   "id": "70079f34",
   "metadata": {},
   "source": [
    "### Quick Tests"
   ]
  },
  {
   "cell_type": "code",
   "execution_count": 21,
   "id": "e3c3b5cf",
   "metadata": {},
   "outputs": [
    {
     "name": "stdout",
     "output_type": "stream",
     "text": [
      "<Response [200]>\n",
      "OK\n"
     ]
    }
   ],
   "source": [
    "# Test accuweather token\n",
    "params = {\"apikey\": ACCUWEATHER_TOKEN}\n",
    "res = requests.get(TOKEN_TEST_URL, params=params)\n",
    "print(res)\n",
    "\n",
    "if not res.ok:\n",
    "    print(\"ERROR ({})\".format(res.status_code))\n",
    "else:\n",
    "    print(\"OK\")"
   ]
  },
  {
   "cell_type": "code",
   "execution_count": null,
   "id": "0fedd57b",
   "metadata": {},
   "outputs": [],
   "source": []
  },
  {
   "cell_type": "markdown",
   "id": "b2d754d4",
   "metadata": {},
   "source": [
    "### Classes"
   ]
  },
  {
   "cell_type": "code",
   "execution_count": null,
   "id": "703234d1",
   "metadata": {},
   "outputs": [],
   "source": []
  }
 ],
 "metadata": {
  "kernelspec": {
   "display_name": "Python 3 (ipykernel)",
   "language": "python",
   "name": "python3"
  },
  "language_info": {
   "codemirror_mode": {
    "name": "ipython",
    "version": 3
   },
   "file_extension": ".py",
   "mimetype": "text/x-python",
   "name": "python",
   "nbconvert_exporter": "python",
   "pygments_lexer": "ipython3",
   "version": "3.8.9"
  }
 },
 "nbformat": 4,
 "nbformat_minor": 5
}
